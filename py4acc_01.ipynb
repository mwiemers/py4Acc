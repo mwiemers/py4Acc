{
 "cells": [
  {
   "cell_type": "markdown",
   "metadata": {},
   "source": [
    "<img src=\"https://upload.wikimedia.org/wikipedia/commons/thumb/6/6b/Microcosm_of_London_Plate_075_-_New_Stock_Exchange_%28tone%29.jpg/640px-Microcosm_of_London_Plate_075_-_New_Stock_Exchange_%28tone%29.jpg\" width=\"400px\" align=\"left\">"
   ]
  },
  {
   "cell_type": "markdown",
   "metadata": {},
   "source": [
    "London Stock Exchange in 1810"
   ]
  },
  {
   "cell_type": "markdown",
   "metadata": {},
   "source": [
    "# Python for Accounting - Practical 1\n",
    "\n",
    "&nbsp;\n",
    "\n",
    "Welcome to the Python for Accounting Practicals. This series of practical sessions consists of three separate sessions, that will teach you to work with stock data and financial documents in Python. \n",
    "\n",
    "Python is the most popular programming language for data analysis/data science worldwide by far and is also the most popular programming language in fintech. Python is extremely versatile and although it might not be the language of choice for every purpose it certainly can be used for almost anything. Another great feature about Python is that it is very easy to learn and that you can find blogs, tutorials, forum posts or video tutorials on almost any topic. "
   ]
  },
  {
   "cell_type": "markdown",
   "metadata": {},
   "source": [
    "### What you will learn in this session\n",
    "\n",
    "- To write and run code and enter text sections in Jupyter Notebooks\n",
    "- Downloading financial/stock data from yahoo finance\n",
    "- Using matplotlib to plot stock data with line plots\n",
    "- Customizing lines and plots\n",
    "- Combining multiple stock data series in a line plot"
   ]
  },
  {
   "cell_type": "markdown",
   "metadata": {},
   "source": [
    "### More information on how the session is run"
   ]
  },
  {
   "cell_type": "markdown",
   "metadata": {},
   "source": [
    "<b>How to work together</b>: \n",
    "        <ul>\n",
    "            <li>Plesase turn on your microphone and webcam.</li>\n",
    "            <li>One shares the screen and the other requests remote control. </li>\n",
    "            <li>Take turns on who types for each exercise.</li>\n",
    "        </ul>\n",
    "<b>What to do when getting stuck</b>:\n",
    "    <ol>\n",
    "        <li>Search online:</li>\n",
    "        <ol>\n",
    "            <li>The answer box on the top of Google's results page</li>\n",
    "            <li><a href=\"https://www.stackoverflow.com\">stackoverflow.com</a> (task-specific solutions)</li>\n",
    "            <li><a href=\"https://www.w3schools.com\">w3schools.com</a> (basic python questions)</li>\n",
    "            <li><a href=\"https://www.realpython.com\">realpython.com</a> (topic-based tutorials)</li>\n",
    "        </ol>\n",
    "        <li>Ask the trainer if you struggle to find a solution.</li>\n",
    "    </ol>\n",
    "\n",
    "&nbsp;\n"
   ]
  },
  {
   "cell_type": "markdown",
   "metadata": {},
   "source": [
    "---"
   ]
  },
  {
   "cell_type": "markdown",
   "metadata": {},
   "source": [
    "<img src=\"https://upload.wikimedia.org/wikipedia/commons/thumb/c/c5/Bitcoin_logo.svg/1920px-Bitcoin_logo.svg.png\" width=\"200px\" align=\"left\">"
   ]
  },
  {
   "cell_type": "markdown",
   "metadata": {},
   "source": [
    "## Downloading financial data from yahoo finance"
   ]
  },
  {
   "cell_type": "markdown",
   "metadata": {},
   "source": [
    "To download stock data from yahoo finance we will use the pandas_datareader library. In particular, we will use the DataReader() function which is located in the pandas_datareader.data module. \n",
    "\n",
    "We will only use the pandas_datareader library to download data from yahoo finance, but the library offers many other sources to retrieve financial data from. Have a look at the documentation if you are interested to find out more: https://pandas-datareader.readthedocs.io/en/latest/remote_data.html\n",
    "\n",
    "For this example, we are going to download the **Bitcoin to GBP rate**. There are more detailed explanations on the code below."
   ]
  },
  {
   "cell_type": "code",
   "execution_count": 1,
   "metadata": {},
   "outputs": [],
   "source": [
    "# importing libraries\n",
    "import pandas_datareader.data as web\n",
    "import pandas as pd\n",
    "from datetime import date\n",
    "\n",
    "start = date(2014, 1, 1) # creating a start date\n",
    "end = date(2020, 10, 1) # creating an end date\n",
    "ticker = 'BTC-GBP' # creating a variable for the ticker\n",
    "btc = web.DataReader(ticker, 'yahoo', start, end) # downloading the bitcoin to gbp rate"
   ]
  },
  {
   "cell_type": "markdown",
   "metadata": {},
   "source": [
    "#### Line 2-4: Importing libraries\n",
    "\n",
    "```python\n",
    "import pandas_datareader.data as web\n",
    "import pandas as pd\n",
    "from datetime import date\n",
    "```\n",
    "\n",
    "In order to import and work with financial data from yahoo finance, we will need the following libraries:\n",
    "\n",
    "- pandas_datareader.data: To download financial data\n",
    "- pandas: To work with the financial data as a dataframe\n",
    "- date from datetime: To create dates in the correct format"
   ]
  },
  {
   "cell_type": "markdown",
   "metadata": {},
   "source": [
    "#### Line 6f: Creating a start and end date\n",
    "\n",
    "\n",
    "```python\n",
    "start = date(2014, 1, 1)\n",
    "end = date(2020, 10, 1)\n",
    "```\n",
    "\n",
    "\n",
    "The `web.DataReader()` function does not require a start and end date. If no dates are provided, it will return the data from the last five years or less, depending on how much data is available.\n",
    "\n",
    "We use the `date()` function from the datetime library to create a date object to get the data from 2014 till October 2020."
   ]
  },
  {
   "cell_type": "markdown",
   "metadata": {},
   "source": [
    "#### Line 8: Creating a ticker variable\n",
    "\n",
    "```python\n",
    "ticker = 'BTC-GBP'\n",
    "```\n",
    "\n",
    "The ticker is an abbreviation to uniquely identify a stock. You can search the ticker on the yahoo finance website (see below). We store the ticker `'BTC-GBP'`for the Bitcon to British Pound rate in the variable `ticker`."
   ]
  },
  {
   "cell_type": "markdown",
   "metadata": {},
   "source": [
    "#### Line 9: Downloading the data\n",
    "\n",
    "```python\n",
    "btc = web.DataReader(ticker, 'yahoo', start, end)\n",
    "```\n",
    "\n",
    "To download the data for the Bitcoin-GBP rate, we are going to use the **pandas_datareader** module, which we imported under the alias `web`. We will use the `web.DataReader()` function to download the financial data from finance.yahoo.com.\n",
    "\n",
    "The `web.DataReader()` function requires 2 arguments: ticker and source. The start and end arguments are optional.\n",
    "- *ticker*: the abbreviation of the stock name\n",
    "- *source*: the online resource to download the data from\n",
    "- *start*: the starting date\n",
    "- *end*: the end date\n",
    "\n",
    "We pass `ticker` as the first argument, follwed by `'yahoo'` as the source. We also enter our start and end dates using the variables `start` and `end`.\n",
    "\n",
    "These four arguments have to be passed in this specific order!"
   ]
  },
  {
   "cell_type": "markdown",
   "metadata": {},
   "source": [
    "We can now have a look at the data."
   ]
  },
  {
   "cell_type": "code",
   "execution_count": 17,
   "metadata": {},
   "outputs": [
    {
     "data": {
      "text/html": [
       "<div>\n",
       "<style scoped>\n",
       "    .dataframe tbody tr th:only-of-type {\n",
       "        vertical-align: middle;\n",
       "    }\n",
       "\n",
       "    .dataframe tbody tr th {\n",
       "        vertical-align: top;\n",
       "    }\n",
       "\n",
       "    .dataframe thead th {\n",
       "        text-align: right;\n",
       "    }\n",
       "</style>\n",
       "<table border=\"1\" class=\"dataframe\">\n",
       "  <thead>\n",
       "    <tr style=\"text-align: right;\">\n",
       "      <th></th>\n",
       "      <th>High</th>\n",
       "      <th>Low</th>\n",
       "      <th>Open</th>\n",
       "      <th>Close</th>\n",
       "      <th>Volume</th>\n",
       "      <th>Adj Close</th>\n",
       "    </tr>\n",
       "    <tr>\n",
       "      <th>Date</th>\n",
       "      <th></th>\n",
       "      <th></th>\n",
       "      <th></th>\n",
       "      <th></th>\n",
       "      <th></th>\n",
       "      <th></th>\n",
       "    </tr>\n",
       "  </thead>\n",
       "  <tbody>\n",
       "    <tr>\n",
       "      <td>2014-09-16</td>\n",
       "      <td>287.523193</td>\n",
       "      <td>278.037109</td>\n",
       "      <td>286.456390</td>\n",
       "      <td>281.176758</td>\n",
       "      <td>12946080</td>\n",
       "      <td>281.176758</td>\n",
       "    </tr>\n",
       "    <tr>\n",
       "      <td>2014-09-17</td>\n",
       "      <td>281.075409</td>\n",
       "      <td>252.261856</td>\n",
       "      <td>280.885315</td>\n",
       "      <td>258.426697</td>\n",
       "      <td>20995616</td>\n",
       "      <td>258.426697</td>\n",
       "    </tr>\n",
       "    <tr>\n",
       "      <td>2014-09-18</td>\n",
       "      <td>259.372528</td>\n",
       "      <td>235.115875</td>\n",
       "      <td>258.221497</td>\n",
       "      <td>242.429230</td>\n",
       "      <td>23285047</td>\n",
       "      <td>242.429230</td>\n",
       "    </tr>\n",
       "    <tr>\n",
       "      <td>2014-09-19</td>\n",
       "      <td>259.929993</td>\n",
       "      <td>239.412338</td>\n",
       "      <td>242.353699</td>\n",
       "      <td>251.092407</td>\n",
       "      <td>22636536</td>\n",
       "      <td>251.092407</td>\n",
       "    </tr>\n",
       "    <tr>\n",
       "      <td>2014-09-20</td>\n",
       "      <td>253.255142</td>\n",
       "      <td>241.437515</td>\n",
       "      <td>250.589493</td>\n",
       "      <td>244.570435</td>\n",
       "      <td>16299809</td>\n",
       "      <td>244.570435</td>\n",
       "    </tr>\n",
       "    <tr>\n",
       "      <td>...</td>\n",
       "      <td>...</td>\n",
       "      <td>...</td>\n",
       "      <td>...</td>\n",
       "      <td>...</td>\n",
       "      <td>...</td>\n",
       "      <td>...</td>\n",
       "    </tr>\n",
       "    <tr>\n",
       "      <td>2020-09-27</td>\n",
       "      <td>8499.311523</td>\n",
       "      <td>8320.674805</td>\n",
       "      <td>8438.967773</td>\n",
       "      <td>8328.069336</td>\n",
       "      <td>17648634545</td>\n",
       "      <td>8328.069336</td>\n",
       "    </tr>\n",
       "    <tr>\n",
       "      <td>2020-09-28</td>\n",
       "      <td>8440.534180</td>\n",
       "      <td>8300.059570</td>\n",
       "      <td>8321.184570</td>\n",
       "      <td>8432.958984</td>\n",
       "      <td>15903763881</td>\n",
       "      <td>8432.958984</td>\n",
       "    </tr>\n",
       "    <tr>\n",
       "      <td>2020-09-29</td>\n",
       "      <td>8438.942383</td>\n",
       "      <td>8329.188477</td>\n",
       "      <td>8430.300781</td>\n",
       "      <td>8351.860352</td>\n",
       "      <td>16072265437</td>\n",
       "      <td>8351.860352</td>\n",
       "    </tr>\n",
       "    <tr>\n",
       "      <td>2020-09-30</td>\n",
       "      <td>8494.676758</td>\n",
       "      <td>8150.583496</td>\n",
       "      <td>8349.841797</td>\n",
       "      <td>8244.086914</td>\n",
       "      <td>21091283201</td>\n",
       "      <td>8244.086914</td>\n",
       "    </tr>\n",
       "    <tr>\n",
       "      <td>2020-10-01</td>\n",
       "      <td>8289.644531</td>\n",
       "      <td>8114.940918</td>\n",
       "      <td>8244.909180</td>\n",
       "      <td>8183.030273</td>\n",
       "      <td>17879346184</td>\n",
       "      <td>8183.030273</td>\n",
       "    </tr>\n",
       "  </tbody>\n",
       "</table>\n",
       "<p>2208 rows × 6 columns</p>\n",
       "</div>"
      ],
      "text/plain": [
       "                   High          Low         Open        Close       Volume  \\\n",
       "Date                                                                          \n",
       "2014-09-16   287.523193   278.037109   286.456390   281.176758     12946080   \n",
       "2014-09-17   281.075409   252.261856   280.885315   258.426697     20995616   \n",
       "2014-09-18   259.372528   235.115875   258.221497   242.429230     23285047   \n",
       "2014-09-19   259.929993   239.412338   242.353699   251.092407     22636536   \n",
       "2014-09-20   253.255142   241.437515   250.589493   244.570435     16299809   \n",
       "...                 ...          ...          ...          ...          ...   \n",
       "2020-09-27  8499.311523  8320.674805  8438.967773  8328.069336  17648634545   \n",
       "2020-09-28  8440.534180  8300.059570  8321.184570  8432.958984  15903763881   \n",
       "2020-09-29  8438.942383  8329.188477  8430.300781  8351.860352  16072265437   \n",
       "2020-09-30  8494.676758  8150.583496  8349.841797  8244.086914  21091283201   \n",
       "2020-10-01  8289.644531  8114.940918  8244.909180  8183.030273  17879346184   \n",
       "\n",
       "              Adj Close  \n",
       "Date                     \n",
       "2014-09-16   281.176758  \n",
       "2014-09-17   258.426697  \n",
       "2014-09-18   242.429230  \n",
       "2014-09-19   251.092407  \n",
       "2014-09-20   244.570435  \n",
       "...                 ...  \n",
       "2020-09-27  8328.069336  \n",
       "2020-09-28  8432.958984  \n",
       "2020-09-29  8351.860352  \n",
       "2020-09-30  8244.086914  \n",
       "2020-10-01  8183.030273  \n",
       "\n",
       "[2208 rows x 6 columns]"
      ]
     },
     "metadata": {},
     "output_type": "display_data"
    }
   ],
   "source": [
    "display(btc)"
   ]
  },
  {
   "cell_type": "markdown",
   "metadata": {},
   "source": [
    "---"
   ]
  },
  {
   "cell_type": "markdown",
   "metadata": {},
   "source": [
    "<img src=\"https://www.dropbox.com/s/ijgo4f0sm3k2xc0/tesco_ms.png?raw=1\" align=\"left\" width=400px>"
   ]
  },
  {
   "cell_type": "markdown",
   "metadata": {},
   "source": [
    "### Task 1: Import the stock data from Tesco and Marks and Spencer"
   ]
  },
  {
   "cell_type": "markdown",
   "metadata": {},
   "source": [
    "1. Import the relevant libraries as shown above.\n",
    "2. Search for the ticker for Tesco and Marks and Spencer from the London Stock Exchange on https://uk.finance.yahoo.com/\n",
    "\n",
    "<img src=\"https://www.dropbox.com/s/ggjn22cr2vhru8q/yahoo_finance.png?raw=1\" width=500px>\n",
    "\n",
    "3. Create as a start date 2010 and today as the end date using the today() function from the date library.\n",
    "4. Import the stock data using yahoo finance as the source and store both in separate variables.\n",
    "5. Export both datasets as a csv.\n",
    "6. Print the head of each dataset."
   ]
  },
  {
   "cell_type": "code",
   "execution_count": null,
   "metadata": {},
   "outputs": [],
   "source": [
    "# import libraries\n",
    "\n",
    "\n",
    "# set ticker variables\n",
    "\n",
    "\n",
    "# set start and end dates\n",
    "\n",
    "\n",
    "# download stock data\n",
    "\n",
    "\n",
    "# export stock data to csv\n",
    "\n",
    "\n",
    "# print head of each dataset\n"
   ]
  },
  {
   "cell_type": "markdown",
   "metadata": {},
   "source": [
    "### Don't run the cell below or the output is lost!"
   ]
  },
  {
   "cell_type": "code",
   "execution_count": 4,
   "metadata": {},
   "outputs": [
    {
     "data": {
      "text/html": [
       "<div>\n",
       "<style scoped>\n",
       "    .dataframe tbody tr th:only-of-type {\n",
       "        vertical-align: middle;\n",
       "    }\n",
       "\n",
       "    .dataframe tbody tr th {\n",
       "        vertical-align: top;\n",
       "    }\n",
       "\n",
       "    .dataframe thead th {\n",
       "        text-align: right;\n",
       "    }\n",
       "</style>\n",
       "<table border=\"1\" class=\"dataframe\">\n",
       "  <thead>\n",
       "    <tr style=\"text-align: right;\">\n",
       "      <th></th>\n",
       "      <th>High</th>\n",
       "      <th>Low</th>\n",
       "      <th>Open</th>\n",
       "      <th>Close</th>\n",
       "      <th>Volume</th>\n",
       "      <th>Adj Close</th>\n",
       "    </tr>\n",
       "    <tr>\n",
       "      <th>Date</th>\n",
       "      <th></th>\n",
       "      <th></th>\n",
       "      <th></th>\n",
       "      <th></th>\n",
       "      <th></th>\n",
       "      <th></th>\n",
       "    </tr>\n",
       "  </thead>\n",
       "  <tbody>\n",
       "    <tr>\n",
       "      <th>2010-01-04</th>\n",
       "      <td>412.700012</td>\n",
       "      <td>400.200012</td>\n",
       "      <td>404.500000</td>\n",
       "      <td>412.399994</td>\n",
       "      <td>9121435.0</td>\n",
       "      <td>255.943863</td>\n",
       "    </tr>\n",
       "    <tr>\n",
       "      <th>2010-01-05</th>\n",
       "      <td>410.000000</td>\n",
       "      <td>401.500000</td>\n",
       "      <td>410.000000</td>\n",
       "      <td>404.899994</td>\n",
       "      <td>13709287.0</td>\n",
       "      <td>251.289169</td>\n",
       "    </tr>\n",
       "    <tr>\n",
       "      <th>2010-01-06</th>\n",
       "      <td>391.899994</td>\n",
       "      <td>375.399994</td>\n",
       "      <td>389.000000</td>\n",
       "      <td>377.399994</td>\n",
       "      <td>46980033.0</td>\n",
       "      <td>234.222076</td>\n",
       "    </tr>\n",
       "    <tr>\n",
       "      <th>2010-01-07</th>\n",
       "      <td>378.100006</td>\n",
       "      <td>369.600006</td>\n",
       "      <td>375.100006</td>\n",
       "      <td>371.000000</td>\n",
       "      <td>18742952.0</td>\n",
       "      <td>230.250153</td>\n",
       "    </tr>\n",
       "    <tr>\n",
       "      <th>2010-01-08</th>\n",
       "      <td>372.799988</td>\n",
       "      <td>365.000000</td>\n",
       "      <td>371.299988</td>\n",
       "      <td>366.399994</td>\n",
       "      <td>20147158.0</td>\n",
       "      <td>227.395264</td>\n",
       "    </tr>\n",
       "  </tbody>\n",
       "</table>\n",
       "</div>"
      ],
      "text/plain": [
       "                  High         Low        Open       Close      Volume  \\\n",
       "Date                                                                     \n",
       "2010-01-04  412.700012  400.200012  404.500000  412.399994   9121435.0   \n",
       "2010-01-05  410.000000  401.500000  410.000000  404.899994  13709287.0   \n",
       "2010-01-06  391.899994  375.399994  389.000000  377.399994  46980033.0   \n",
       "2010-01-07  378.100006  369.600006  375.100006  371.000000  18742952.0   \n",
       "2010-01-08  372.799988  365.000000  371.299988  366.399994  20147158.0   \n",
       "\n",
       "             Adj Close  \n",
       "Date                    \n",
       "2010-01-04  255.943863  \n",
       "2010-01-05  251.289169  \n",
       "2010-01-06  234.222076  \n",
       "2010-01-07  230.250153  \n",
       "2010-01-08  227.395264  "
      ]
     },
     "metadata": {},
     "output_type": "display_data"
    },
    {
     "data": {
      "text/html": [
       "<div>\n",
       "<style scoped>\n",
       "    .dataframe tbody tr th:only-of-type {\n",
       "        vertical-align: middle;\n",
       "    }\n",
       "\n",
       "    .dataframe tbody tr th {\n",
       "        vertical-align: top;\n",
       "    }\n",
       "\n",
       "    .dataframe thead th {\n",
       "        text-align: right;\n",
       "    }\n",
       "</style>\n",
       "<table border=\"1\" class=\"dataframe\">\n",
       "  <thead>\n",
       "    <tr style=\"text-align: right;\">\n",
       "      <th></th>\n",
       "      <th>High</th>\n",
       "      <th>Low</th>\n",
       "      <th>Open</th>\n",
       "      <th>Close</th>\n",
       "      <th>Volume</th>\n",
       "      <th>Adj Close</th>\n",
       "    </tr>\n",
       "    <tr>\n",
       "      <th>Date</th>\n",
       "      <th></th>\n",
       "      <th></th>\n",
       "      <th></th>\n",
       "      <th></th>\n",
       "      <th></th>\n",
       "      <th></th>\n",
       "    </tr>\n",
       "  </thead>\n",
       "  <tbody>\n",
       "    <tr>\n",
       "      <th>2010-01-04</th>\n",
       "      <td>430.899994</td>\n",
       "      <td>425.149994</td>\n",
       "      <td>427.899994</td>\n",
       "      <td>428.399994</td>\n",
       "      <td>8258927.0</td>\n",
       "      <td>321.390289</td>\n",
       "    </tr>\n",
       "    <tr>\n",
       "      <th>2010-01-05</th>\n",
       "      <td>423.899994</td>\n",
       "      <td>418.250000</td>\n",
       "      <td>423.700012</td>\n",
       "      <td>420.450012</td>\n",
       "      <td>16903058.0</td>\n",
       "      <td>315.426208</td>\n",
       "    </tr>\n",
       "    <tr>\n",
       "      <th>2010-01-06</th>\n",
       "      <td>421.299988</td>\n",
       "      <td>409.700012</td>\n",
       "      <td>420.950012</td>\n",
       "      <td>412.049988</td>\n",
       "      <td>32451030.0</td>\n",
       "      <td>309.124390</td>\n",
       "    </tr>\n",
       "    <tr>\n",
       "      <th>2010-01-07</th>\n",
       "      <td>418.149994</td>\n",
       "      <td>411.850006</td>\n",
       "      <td>412.600006</td>\n",
       "      <td>412.000000</td>\n",
       "      <td>17706251.0</td>\n",
       "      <td>309.086884</td>\n",
       "    </tr>\n",
       "    <tr>\n",
       "      <th>2010-01-08</th>\n",
       "      <td>415.950012</td>\n",
       "      <td>410.549988</td>\n",
       "      <td>411.750000</td>\n",
       "      <td>415.950012</td>\n",
       "      <td>20639008.0</td>\n",
       "      <td>312.050262</td>\n",
       "    </tr>\n",
       "  </tbody>\n",
       "</table>\n",
       "</div>"
      ],
      "text/plain": [
       "                  High         Low        Open       Close      Volume  \\\n",
       "Date                                                                     \n",
       "2010-01-04  430.899994  425.149994  427.899994  428.399994   8258927.0   \n",
       "2010-01-05  423.899994  418.250000  423.700012  420.450012  16903058.0   \n",
       "2010-01-06  421.299988  409.700012  420.950012  412.049988  32451030.0   \n",
       "2010-01-07  418.149994  411.850006  412.600006  412.000000  17706251.0   \n",
       "2010-01-08  415.950012  410.549988  411.750000  415.950012  20639008.0   \n",
       "\n",
       "             Adj Close  \n",
       "Date                    \n",
       "2010-01-04  321.390289  \n",
       "2010-01-05  315.426208  \n",
       "2010-01-06  309.124390  \n",
       "2010-01-07  309.086884  \n",
       "2010-01-08  312.050262  "
      ]
     },
     "metadata": {},
     "output_type": "display_data"
    }
   ],
   "source": [
    "# solution output "
   ]
  },
  {
   "cell_type": "markdown",
   "metadata": {},
   "source": [
    "---"
   ]
  },
  {
   "cell_type": "markdown",
   "metadata": {},
   "source": [
    "## Inspecting a dataset"
   ]
  },
  {
   "cell_type": "markdown",
   "metadata": {},
   "source": [
    "### Getting an overview of the data\n",
    "\n",
    "Pandas has a number of useful methods to get an overview of your dataset. Try a websearch if you cannot remember the method from the courses on dataquest.io to solve the task."
   ]
  },
  {
   "cell_type": "markdown",
   "metadata": {},
   "source": [
    "### Task 2: Inspecting the dataset\n",
    "\n",
    "1. Print the column types of the Tesco and Marks and Spencer stock dataset.\n",
    "2. Print the number of rows of both datasets.\n",
    "3. Print the the first and last value in the Close column of each dataset.\n",
    "4. Print the maximum and minimum value of the Close column of each dataset."
   ]
  },
  {
   "cell_type": "code",
   "execution_count": null,
   "metadata": {},
   "outputs": [],
   "source": [
    "#Print the column types of the Tesco and Marks and Spencer stock dataset.\n",
    "\n",
    "\n",
    "#Print the number of rows of both datasets.\n",
    "\n",
    "\n",
    "#Print the the first and last value in the Close column of each dataset.\n",
    "\n",
    "\n",
    "#Print the maximum and minimum value of the Close column of each dataset.\n",
    "\n",
    "\n"
   ]
  },
  {
   "cell_type": "markdown",
   "metadata": {},
   "source": [
    "### Don't run the cell below or the output is lost!"
   ]
  },
  {
   "cell_type": "code",
   "execution_count": 17,
   "metadata": {},
   "outputs": [
    {
     "name": "stdout",
     "output_type": "stream",
     "text": [
      "\n",
      "Column types Tesco\n",
      "High         float64\n",
      "Low          float64\n",
      "Open         float64\n",
      "Close        float64\n",
      "Volume       float64\n",
      "Adj Close    float64\n",
      "dtype: object\n",
      "\n",
      "Column types MKS\n",
      "High         float64\n",
      "Low          float64\n",
      "Open         float64\n",
      "Close        float64\n",
      "Volume       float64\n",
      "Adj Close    float64\n",
      "dtype: object\n",
      "\n",
      "Number of rows Tesco\n",
      "2757\n",
      "\n",
      "Number of rows MKS\n",
      "2757\n",
      "\n",
      "First five values Tesco\n"
     ]
    },
    {
     "data": {
      "text/html": [
       "<div>\n",
       "<style scoped>\n",
       "    .dataframe tbody tr th:only-of-type {\n",
       "        vertical-align: middle;\n",
       "    }\n",
       "\n",
       "    .dataframe tbody tr th {\n",
       "        vertical-align: top;\n",
       "    }\n",
       "\n",
       "    .dataframe thead th {\n",
       "        text-align: right;\n",
       "    }\n",
       "</style>\n",
       "<table border=\"1\" class=\"dataframe\">\n",
       "  <thead>\n",
       "    <tr style=\"text-align: right;\">\n",
       "      <th></th>\n",
       "      <th>High</th>\n",
       "      <th>Low</th>\n",
       "      <th>Open</th>\n",
       "      <th>Close</th>\n",
       "      <th>Volume</th>\n",
       "      <th>Adj Close</th>\n",
       "    </tr>\n",
       "    <tr>\n",
       "      <th>Date</th>\n",
       "      <th></th>\n",
       "      <th></th>\n",
       "      <th></th>\n",
       "      <th></th>\n",
       "      <th></th>\n",
       "      <th></th>\n",
       "    </tr>\n",
       "  </thead>\n",
       "  <tbody>\n",
       "    <tr>\n",
       "      <th>2010-01-04</th>\n",
       "      <td>430.899994</td>\n",
       "      <td>425.149994</td>\n",
       "      <td>427.899994</td>\n",
       "      <td>428.399994</td>\n",
       "      <td>8258927.0</td>\n",
       "      <td>321.390289</td>\n",
       "    </tr>\n",
       "    <tr>\n",
       "      <th>2010-01-05</th>\n",
       "      <td>423.899994</td>\n",
       "      <td>418.250000</td>\n",
       "      <td>423.700012</td>\n",
       "      <td>420.450012</td>\n",
       "      <td>16903058.0</td>\n",
       "      <td>315.426208</td>\n",
       "    </tr>\n",
       "    <tr>\n",
       "      <th>2010-01-06</th>\n",
       "      <td>421.299988</td>\n",
       "      <td>409.700012</td>\n",
       "      <td>420.950012</td>\n",
       "      <td>412.049988</td>\n",
       "      <td>32451030.0</td>\n",
       "      <td>309.124390</td>\n",
       "    </tr>\n",
       "    <tr>\n",
       "      <th>2010-01-07</th>\n",
       "      <td>418.149994</td>\n",
       "      <td>411.850006</td>\n",
       "      <td>412.600006</td>\n",
       "      <td>412.000000</td>\n",
       "      <td>17706251.0</td>\n",
       "      <td>309.086884</td>\n",
       "    </tr>\n",
       "    <tr>\n",
       "      <th>2010-01-08</th>\n",
       "      <td>415.950012</td>\n",
       "      <td>410.549988</td>\n",
       "      <td>411.750000</td>\n",
       "      <td>415.950012</td>\n",
       "      <td>20639008.0</td>\n",
       "      <td>312.050262</td>\n",
       "    </tr>\n",
       "  </tbody>\n",
       "</table>\n",
       "</div>"
      ],
      "text/plain": [
       "                  High         Low        Open       Close      Volume  \\\n",
       "Date                                                                     \n",
       "2010-01-04  430.899994  425.149994  427.899994  428.399994   8258927.0   \n",
       "2010-01-05  423.899994  418.250000  423.700012  420.450012  16903058.0   \n",
       "2010-01-06  421.299988  409.700012  420.950012  412.049988  32451030.0   \n",
       "2010-01-07  418.149994  411.850006  412.600006  412.000000  17706251.0   \n",
       "2010-01-08  415.950012  410.549988  411.750000  415.950012  20639008.0   \n",
       "\n",
       "             Adj Close  \n",
       "Date                    \n",
       "2010-01-04  321.390289  \n",
       "2010-01-05  315.426208  \n",
       "2010-01-06  309.124390  \n",
       "2010-01-07  309.086884  \n",
       "2010-01-08  312.050262  "
      ]
     },
     "metadata": {},
     "output_type": "display_data"
    },
    {
     "name": "stdout",
     "output_type": "stream",
     "text": [
      "\n",
      "First five values MKS\n"
     ]
    },
    {
     "data": {
      "text/html": [
       "<div>\n",
       "<style scoped>\n",
       "    .dataframe tbody tr th:only-of-type {\n",
       "        vertical-align: middle;\n",
       "    }\n",
       "\n",
       "    .dataframe tbody tr th {\n",
       "        vertical-align: top;\n",
       "    }\n",
       "\n",
       "    .dataframe thead th {\n",
       "        text-align: right;\n",
       "    }\n",
       "</style>\n",
       "<table border=\"1\" class=\"dataframe\">\n",
       "  <thead>\n",
       "    <tr style=\"text-align: right;\">\n",
       "      <th></th>\n",
       "      <th>High</th>\n",
       "      <th>Low</th>\n",
       "      <th>Open</th>\n",
       "      <th>Close</th>\n",
       "      <th>Volume</th>\n",
       "      <th>Adj Close</th>\n",
       "    </tr>\n",
       "    <tr>\n",
       "      <th>Date</th>\n",
       "      <th></th>\n",
       "      <th></th>\n",
       "      <th></th>\n",
       "      <th></th>\n",
       "      <th></th>\n",
       "      <th></th>\n",
       "    </tr>\n",
       "  </thead>\n",
       "  <tbody>\n",
       "    <tr>\n",
       "      <th>2010-01-04</th>\n",
       "      <td>412.700012</td>\n",
       "      <td>400.200012</td>\n",
       "      <td>404.500000</td>\n",
       "      <td>412.399994</td>\n",
       "      <td>9121435.0</td>\n",
       "      <td>255.943863</td>\n",
       "    </tr>\n",
       "    <tr>\n",
       "      <th>2010-01-05</th>\n",
       "      <td>410.000000</td>\n",
       "      <td>401.500000</td>\n",
       "      <td>410.000000</td>\n",
       "      <td>404.899994</td>\n",
       "      <td>13709287.0</td>\n",
       "      <td>251.289169</td>\n",
       "    </tr>\n",
       "    <tr>\n",
       "      <th>2010-01-06</th>\n",
       "      <td>391.899994</td>\n",
       "      <td>375.399994</td>\n",
       "      <td>389.000000</td>\n",
       "      <td>377.399994</td>\n",
       "      <td>46980033.0</td>\n",
       "      <td>234.222076</td>\n",
       "    </tr>\n",
       "    <tr>\n",
       "      <th>2010-01-07</th>\n",
       "      <td>378.100006</td>\n",
       "      <td>369.600006</td>\n",
       "      <td>375.100006</td>\n",
       "      <td>371.000000</td>\n",
       "      <td>18742952.0</td>\n",
       "      <td>230.250153</td>\n",
       "    </tr>\n",
       "    <tr>\n",
       "      <th>2010-01-08</th>\n",
       "      <td>372.799988</td>\n",
       "      <td>365.000000</td>\n",
       "      <td>371.299988</td>\n",
       "      <td>366.399994</td>\n",
       "      <td>20147158.0</td>\n",
       "      <td>227.395264</td>\n",
       "    </tr>\n",
       "  </tbody>\n",
       "</table>\n",
       "</div>"
      ],
      "text/plain": [
       "                  High         Low        Open       Close      Volume  \\\n",
       "Date                                                                     \n",
       "2010-01-04  412.700012  400.200012  404.500000  412.399994   9121435.0   \n",
       "2010-01-05  410.000000  401.500000  410.000000  404.899994  13709287.0   \n",
       "2010-01-06  391.899994  375.399994  389.000000  377.399994  46980033.0   \n",
       "2010-01-07  378.100006  369.600006  375.100006  371.000000  18742952.0   \n",
       "2010-01-08  372.799988  365.000000  371.299988  366.399994  20147158.0   \n",
       "\n",
       "             Adj Close  \n",
       "Date                    \n",
       "2010-01-04  255.943863  \n",
       "2010-01-05  251.289169  \n",
       "2010-01-06  234.222076  \n",
       "2010-01-07  230.250153  \n",
       "2010-01-08  227.395264  "
      ]
     },
     "metadata": {},
     "output_type": "display_data"
    },
    {
     "name": "stdout",
     "output_type": "stream",
     "text": [
      "\n",
      "Lowest Close Price Tesco\n"
     ]
    },
    {
     "data": {
      "text/plain": [
       "139.1999969482422"
      ]
     },
     "metadata": {},
     "output_type": "display_data"
    },
    {
     "name": "stdout",
     "output_type": "stream",
     "text": [
      "\n",
      "Lowest Close Price MKS\n"
     ]
    },
    {
     "data": {
      "text/plain": [
       "85.04000091552734"
      ]
     },
     "metadata": {},
     "output_type": "display_data"
    }
   ],
   "source": [
    "# solution output"
   ]
  },
  {
   "cell_type": "markdown",
   "metadata": {},
   "source": [
    "---"
   ]
  },
  {
   "cell_type": "markdown",
   "metadata": {},
   "source": [
    "## Plotting with matplotlib"
   ]
  },
  {
   "cell_type": "markdown",
   "metadata": {},
   "source": [
    "Matplotlib is the most popular plotting library in Python. It allows you to plot basically any type of plot with very few code. Although creating more complex plots, can be challenging, it isn't difficult to find useful help in [blog posts](https://towardsdatascience.com/matplotlib-tutorial-learn-basics-of-pythons-powerful-plotting-library-b5d1b8f67596), [tutorials](https://realpython.com/python-matplotlib-guide/), on [stackoverflow.com](https://stackoverflow.com/questions/tagged/matplotlib?sort=MostVotes&edited=true) or the documentation and tutorials on the [matplotlib website](https://matplotlib.org/tutorials/).\n",
    "\n",
    "We are going to use the **matplotlib** library to plot the Bitcoin to British Pound rate as a function of time. We can use the **index** of the **btc** data frame to retrieve the date and the **Close** column to plot the Bitcoin to Pound rate."
   ]
  },
  {
   "cell_type": "markdown",
   "metadata": {},
   "source": [
    "### Simple line plot"
   ]
  },
  {
   "cell_type": "code",
   "execution_count": 24,
   "metadata": {},
   "outputs": [
    {
     "data": {
      "image/png": "[encoded data removed]",
      "text/plain": [
       "<Figure size 432x288 with 1 Axes>"
      ]
     },
     "metadata": {
      "needs_background": "light"
     },
     "output_type": "display_data"
    }
   ],
   "source": [
    "import matplotlib.pyplot as plt\n",
    "\n",
    "plt.plot(btc.index, btc['Close'])\n",
    "plt.show()"
   ]
  },
  {
   "cell_type": "markdown",
   "metadata": {},
   "source": [
    "#### Line 1: Importing matplotlib\n",
    "\n",
    "```python\n",
    "import matplotlib.pyplot as plt\n",
    "```\n",
    "\n",
    "We start by importing the `pyplot` module from the `matplotlib` library under the alias `plt`."
   ]
  },
  {
   "cell_type": "markdown",
   "metadata": {},
   "source": [
    "#### Line 3: line plot\n",
    "\n",
    "```python\n",
    "plt.plot(btc.index, btc['Close'])\n",
    "```\n",
    "\n",
    "From the `plt` module we call the `plot()` function and we pass as arguments the **index** and the **Close** column of the btc dataframe. The values for the x and y axis are positional arguments, which means they have to be passed in this order."
   ]
  },
  {
   "cell_type": "markdown",
   "metadata": {},
   "source": [
    "#### Line 4: plt.show()\n",
    "\n",
    "```python\n",
    "plt.show()\n",
    "```\n",
    "\n",
    "The `plt.show()` command is used to display matplotlib figures. It is actually not necessary to run the plt.show() command in a Jupyter notebook to display the figures, but you would have to use it to display a plot in a normal Python script for instance."
   ]
  },
  {
   "cell_type": "code",
   "execution_count": null,
   "metadata": {},
   "outputs": [],
   "source": []
  },
  {
   "cell_type": "markdown",
   "metadata": {},
   "source": [
    "### Task 3: A simple line plot\n",
    "\n",
    "1. Import matplotlib\n",
    "2. Create a line plot of the Adjusted Close column of the Tesco stock on the y-axis and the date on the x-axis."
   ]
  },
  {
   "cell_type": "code",
   "execution_count": null,
   "metadata": {},
   "outputs": [],
   "source": []
  },
  {
   "cell_type": "markdown",
   "metadata": {},
   "source": [
    "### Don't run the cell below or the output is lost!"
   ]
  },
  {
   "cell_type": "code",
   "execution_count": 18,
   "metadata": {},
   "outputs": [
    {
     "data": {
      "image/png": "[encoded data removed]",
      "text/plain": [
       "<Figure size 432x288 with 1 Axes>"
      ]
     },
     "metadata": {
      "needs_background": "light"
     },
     "output_type": "display_data"
    }
   ],
   "source": [
    "# solution output"
   ]
  },
  {
   "cell_type": "markdown",
   "metadata": {},
   "source": [
    "---"
   ]
  },
  {
   "cell_type": "markdown",
   "metadata": {},
   "source": [
    "### Customized line plot\n",
    "\n",
    "In the next step, we will customize the look of the plot by changing colors, adding labels and text and adding a grid. See explanations on the code below."
   ]
  },
  {
   "cell_type": "code",
   "execution_count": 26,
   "metadata": {},
   "outputs": [
    {
     "data": {
      "image/png": "[encoded data removed]",
      "text/plain": [
       "<Figure size 432x288 with 1 Axes>"
      ]
     },
     "metadata": {
      "needs_background": "light"
     },
     "output_type": "display_data"
    }
   ],
   "source": [
    "plt.plot(btc.index, btc['Adj Close'], color='tab:orange', linewidth=1.5, alpha=.7)\n",
    "\n",
    "plt.title('Bitcoin') # adding a plot title\n",
    "plt.xlabel('Date') # adding an x-axis label\n",
    "plt.ylabel('Price in GBP') # adding a y-axis label\n",
    "plt.yticks([0, 2000, 4000, 6000, 8000, 10000, 12000, 14000],  # changing y-axis ticks and tick labels\n",
    "           ['£0', '£2000', '£4000', '£6000', '£8000', '£10000', '£12000', '£14000']);\n",
    "plt.grid(linestyle='--') # adding a grid to the plot"
   ]
  },
  {
   "cell_type": "markdown",
   "metadata": {},
   "source": [
    "#### Line 1: Changing the appearance of the line\n",
    "\n",
    "\n",
    "```python\n",
    "plt.plot(btc.index, btc['Adj Close'], color='tab:orange', linewidth=1.5, alpha=.8)\n",
    "```\n",
    "We can change the appearance of the line with several keyword arguments to be passed to the `plt.plot()` function. \n",
    "\n",
    "We use the `color` argument to change the colour to the tableau orange with `'tab:orange'`. Have a look at the [matplotlib documentation](https://matplotlib.org/3.1.0/gallery/color/named_colors.html) for a colour palette and corresponding names.\n",
    "\n",
    "The `linewdith` argument takes float values to adjust the width of the line.\n",
    "\n",
    "With the `alpha` argument you can change the transparency of the line. You have to pass a value between 0 and 1."
   ]
  },
  {
   "cell_type": "markdown",
   "metadata": {},
   "source": [
    "#### Line 3-5: Adding a title and labels\n",
    "\n",
    "\n",
    "```python\n",
    "plt.title('Bitcoin')\n",
    "plt.xlabel('Date')\n",
    "plt.ylabel('Price in GBP')\n",
    "```\n",
    "\n",
    "To add a title and labels for the x- and y-axis, we use `plt.title()`, `plt.xlabel()` and `plt.ylabel()` and pass a string for the title and axes labels.\n",
    "\n",
    "#### Line 6-7: Adding tick labels on y-axis\n",
    "\n",
    "```python\n",
    "plt.yticks([0, 2000, 4000, 6000, 8000, 10000, 12000, 14000], \n",
    "           ['£0', '£2000', '£4000', '£6000', '£8000', '£10000', '£12000', '£14000']);\n",
    "```\n",
    "\n",
    "We can change the tick labels on the y-axis with `plt.ticks()` to display numbers preceded with a Pound sign. To do this, we have to pass two lists to the function - the first containing the tick positions (0 - 14000) and the second containing the string values that should be displayed at each tick position. \n",
    "\n",
    "We add a semicolon at the end of the `plt.ticks()` function call to suppress the text output about the changes in the ticks and labels \n",
    "\n",
    "#### Line 8: Addng a grid\n",
    "```python\n",
    "plt.grid(linestyle='--')\n",
    "```\n",
    "\n",
    "`plt.grid(linestyle='--')` adds a grid. With the `linestyle` argument we can change the from a solid to a dashed line."
   ]
  },
  {
   "cell_type": "markdown",
   "metadata": {},
   "source": [
    "### Task 4: Customizing the line plot\n",
    "\n",
    "1. Adjust the colour, linewidth and alpha\n",
    "2. Add a title and axis labels\n",
    "3. Change the yticks to display a pound sign before the numbers\n",
    "4. Add a grid"
   ]
  },
  {
   "cell_type": "code",
   "execution_count": null,
   "metadata": {},
   "outputs": [],
   "source": []
  },
  {
   "cell_type": "markdown",
   "metadata": {},
   "source": [
    "### Don't run the cell below or the output is lost!"
   ]
  },
  {
   "cell_type": "code",
   "execution_count": 23,
   "metadata": {},
   "outputs": [
    {
     "data": {
      "image/png": "[encoded data removed]",
      "text/plain": [
       "<Figure size 432x288 with 1 Axes>"
      ]
     },
     "metadata": {
      "needs_background": "light"
     },
     "output_type": "display_data"
    }
   ],
   "source": [
    "# solution output"
   ]
  },
  {
   "cell_type": "markdown",
   "metadata": {},
   "source": [
    "---"
   ]
  },
  {
   "cell_type": "markdown",
   "metadata": {},
   "source": [
    "### Adding a second data series and a legend\n",
    "\n",
    "In the example below, a second line with the data of the **Close** column + 1000 is added to the plot. See below for detailed explanations on the code."
   ]
  },
  {
   "cell_type": "code",
   "execution_count": 28,
   "metadata": {},
   "outputs": [
    {
     "data": {
      "text/plain": [
       "<matplotlib.legend.Legend at 0x11cc89090>"
      ]
     },
     "execution_count": 28,
     "metadata": {},
     "output_type": "execute_result"
    },
    {
     "data": {
      "image/png": "[encoded data removed]",
      "text/plain": [
       "<Figure size 432x288 with 1 Axes>"
      ]
     },
     "metadata": {
      "needs_background": "light"
     },
     "output_type": "display_data"
    }
   ],
   "source": [
    "plt.plot(btc.index, btc['Close'], color='tab:orange', linewidth=1.5, alpha=.7, label='Bitcoin')\n",
    "plt.plot(btc.index, btc['Close']+1000, color='tab:blue', linewidth=1.5, alpha=.7, label='Bitcon+1000')\n",
    "\n",
    "plt.title('Bitcoin')\n",
    "plt.xlabel('Date')\n",
    "plt.ylabel('Price in GBP')\n",
    "plt.yticks([0, 2000, 4000, 6000, 8000, 10000, 12000, 14000], \n",
    "           ['£0', '£2000', '£4000', '£6000', '£8000', '£10000', '£12000', '£14000']);\n",
    "plt.grid(True)\n",
    "plt.legend()"
   ]
  },
  {
   "cell_type": "markdown",
   "metadata": {},
   "source": [
    "#### Line 2: Adding a second line\n",
    "\n",
    "```python\n",
    "plt.plot(btc.index, btc['Close']+1000, color='tab:blue', linewidth=1.5, alpha=.7, label='Bitcon+1000')\n",
    "```\n",
    "\n",
    "To add a second data series to the plot, you can add another `plt.plot()` call. In the example below, a second line is created by adding 1000 to the values of the of the Close column with `btc['Close']+1000`. To better differentiate the two lines the colour is set to `tab:blue`. With the `label` argument, we assign a label to each line, which can be displayed in the legend."
   ]
  },
  {
   "cell_type": "markdown",
   "metadata": {},
   "source": [
    "#### Line 10: Adding a legend\n",
    "\n",
    "```python\n",
    "plt.legend()\n",
    "```\n",
    "\n",
    "With `plt.legend()` the legend is being displayed in the plot area. The legend will use the labels that we added to the lines with the `label` argument in line 1 and 2."
   ]
  },
  {
   "cell_type": "markdown",
   "metadata": {},
   "source": [
    "### Task 5: Adding a second line\n",
    "\n",
    "1. Add a second line to the plot for the Marks and Spencer Adj Close column\n",
    "2. Add labels to both lines\n",
    "3. Add a legend\n",
    "4. Adjust the title\n",
    "5. Adjust the yaxis ticks"
   ]
  },
  {
   "cell_type": "code",
   "execution_count": null,
   "metadata": {},
   "outputs": [],
   "source": []
  },
  {
   "cell_type": "markdown",
   "metadata": {},
   "source": [
    "### Don't run the cell below or the output is lost!"
   ]
  },
  {
   "cell_type": "code",
   "execution_count": 26,
   "metadata": {},
   "outputs": [
    {
     "data": {
      "image/png": "[encoded data removed]",
      "text/plain": [
       "<Figure size 432x288 with 1 Axes>"
      ]
     },
     "metadata": {
      "needs_background": "light"
     },
     "output_type": "display_data"
    }
   ],
   "source": [
    "# solution output"
   ]
  },
  {
   "cell_type": "markdown",
   "metadata": {},
   "source": [
    "\n",
    "&nbsp;\n",
    "\n",
    "&nbsp;\n",
    "\n",
    "### Final task: Please give us your feedback!\n",
    "\n",
    "This is the first time that we are delivering our trainings online. In order to adapt our training to your needs and provide the most valuable learning experience for you, we depend on your feedack.\n",
    "\n",
    "We would be grateful if you could take **1 min** before the end of the workshop to get your feedback!\n",
    "\n",
    "[Click here to open the survey!](https://lse.eu.qualtrics.com/jfe/form/SV_77M35cq1arxNcj3?course=D056-P4A1&topic=Python&cohort=LT21&link=https://lsecloud-my.sharepoint.com/:u:/g/personal/m_wiemers_lse_ac_uk/EY1W5H5tgAFOqnytt33X1fwBz-xos1OaCGOi147IVMfF8g?e=Z9U935)"
   ]
  },
  {
   "cell_type": "code",
   "execution_count": null,
   "metadata": {},
   "outputs": [],
   "source": []
  }
 ],
 "metadata": {
  "kernelspec": {
   "display_name": "Python 3",
   "language": "python",
   "name": "python3"
  },
  "language_info": {
   "codemirror_mode": {
    "name": "ipython",
    "version": 3
   },
   "file_extension": ".py",
   "mimetype": "text/x-python",
   "name": "python",
   "nbconvert_exporter": "python",
   "pygments_lexer": "ipython3",
   "version": "3.8.5"
  }
 },
 "nbformat": 4,
 "nbformat_minor": 2
}
